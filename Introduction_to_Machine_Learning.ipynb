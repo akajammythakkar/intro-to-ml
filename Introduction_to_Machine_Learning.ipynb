{
  "nbformat": 4,
  "nbformat_minor": 0,
  "metadata": {
    "colab": {
      "provenance": [],
      "authorship_tag": "ABX9TyMkma4SsQ7zhet0dGo12gi7",
      "include_colab_link": true
    },
    "kernelspec": {
      "name": "python3",
      "display_name": "Python 3"
    },
    "language_info": {
      "name": "python"
    }
  },
  "cells": [
    {
      "cell_type": "markdown",
      "metadata": {
        "id": "view-in-github",
        "colab_type": "text"
      },
      "source": [
        "<a href=\"https://colab.research.google.com/github/akajammythakkar/intro-to-ml/blob/main/Introduction_to_Machine_Learning.ipynb\" target=\"_parent\"><img src=\"https://colab.research.google.com/assets/colab-badge.svg\" alt=\"Open In Colab\"/></a>"
      ]
    },
    {
      "cell_type": "code",
      "source": [
        "import pandas as pd\n",
        "import numpy as np\n",
        "from sklearn.model_selection import train_test_split\n",
        "from sklearn.preprocessing import StandardScaler\n",
        "from sklearn.linear_model import LinearRegression, Ridge, Lasso, LogisticRegression\n",
        "from sklearn.svm import SVR\n",
        "from sklearn.metrics import mean_squared_error, accuracy_score, r2_score\n",
        "import matplotlib.pyplot as plt"
      ],
      "metadata": {
        "id": "fVW0d_odMEv2"
      },
      "execution_count": null,
      "outputs": []
    },
    {
      "cell_type": "code",
      "source": [
        "# Load the datasets\n",
        "train_data = pd.read_csv('/content/sample_data/california_housing_train.csv')\n",
        "test_data = pd.read_csv('/content/sample_data/california_housing_test.csv')"
      ],
      "metadata": {
        "id": "ysrwsxgMMDP1"
      },
      "execution_count": null,
      "outputs": []
    },
    {
      "cell_type": "code",
      "source": [
        "# Splitting the features and target variable\n",
        "X_train = train_data.drop('median_house_value', axis=1)  # Assuming 'median_house_value' is the target\n",
        "y_train = train_data['median_house_value']\n",
        "\n",
        "X_test = test_data.drop('median_house_value', axis=1)\n",
        "y_test = test_data['median_house_value']"
      ],
      "metadata": {
        "id": "zDARsWZ1L_Fh"
      },
      "execution_count": null,
      "outputs": []
    },
    {
      "cell_type": "code",
      "source": [
        "# Standardize the features\n",
        "scaler = StandardScaler()\n",
        "X_train_scaled = scaler.fit_transform(X_train)\n",
        "X_test_scaled = scaler.transform(X_test)\n",
        "\n",
        "# Initialize the models\n",
        "linear_regression = LinearRegression()\n",
        "ridge_regression = Ridge()\n",
        "lasso_regression = Lasso()\n",
        "svm = SVR()\n",
        "\n",
        "# Dictionary to store model performance\n",
        "model_performance = {}\n",
        "\n",
        "# Train and evaluate Linear Regression\n",
        "linear_regression.fit(X_train_scaled, y_train)\n",
        "y_pred = linear_regression.predict(X_test_scaled)\n",
        "r2 = r2_score(y_test, y_pred)\n",
        "model_performance['Linear Regression'] = r2\n",
        "print(f\"Linear Regression R2: {r2:.4f}\")\n",
        "\n",
        "# Train and evaluate Ridge Regression\n",
        "ridge_regression.fit(X_train_scaled, y_train)\n",
        "y_pred = ridge_regression.predict(X_test_scaled)\n",
        "r2 = r2_score(y_test, y_pred)\n",
        "model_performance['Ridge'] = r2\n",
        "print(f\"Ridge Regression R2: {r2:.4f}\")\n",
        "\n",
        "\n",
        "# Train and evaluate Lasso Regression\n",
        "lasso_regression.fit(X_train_scaled, y_train)\n",
        "y_pred = lasso_regression.predict(X_test_scaled)\n",
        "r2 = r2_score(y_test, y_pred)\n",
        "model_performance['Lasso'] = r2\n",
        "print(f\"Lasso Regression R2: {r2:.4f}\")\n",
        "\n",
        "# Train and evaluate Support Vector Machine\n",
        "svm.fit(X_train_scaled, y_train)\n",
        "y_pred = svm.predict(X_test_scaled)\n",
        "r2 = r2_score(y_test, y_pred)\n",
        "model_performance['Support Vector Machine'] = r2\n",
        "print(f\"Support Vector Machine R2: {r2:.4f}\")\n"
      ],
      "metadata": {
        "colab": {
          "base_uri": "https://localhost:8080/"
        },
        "id": "JDEEvmfbMIr7",
        "outputId": "ae2036e1-4372-4f2a-f969-8c8a2da6b781"
      },
      "execution_count": null,
      "outputs": [
        {
          "output_type": "stream",
          "name": "stdout",
          "text": [
            "Linear Regression R2: 0.6195\n",
            "Ridge Regression R2: 0.6195\n",
            "Lasso Regression R2: 0.6195\n",
            "Support Vector Machine R2: -0.0447\n"
          ]
        }
      ]
    },
    {
      "cell_type": "code",
      "source": [
        "model_performance"
      ],
      "metadata": {
        "colab": {
          "base_uri": "https://localhost:8080/"
        },
        "id": "sIiBhntVLtTs",
        "outputId": "772d39c5-9319-4dcc-849a-69316fe95dcb"
      },
      "execution_count": null,
      "outputs": [
        {
          "output_type": "execute_result",
          "data": {
            "text/plain": [
              "{'Linear Regression': 0.6195057678311999,\n",
              " 'Ridge': 0.619513142727,\n",
              " 'Lasso': 0.6195071728380427,\n",
              " 'Support Vector Machine': -0.044737063113609254}"
            ]
          },
          "metadata": {},
          "execution_count": 5
        }
      ]
    },
    {
      "cell_type": "code",
      "source": [],
      "metadata": {
        "id": "QD-uh2lTN2nl"
      },
      "execution_count": null,
      "outputs": []
    }
  ]
}